{
 "cells": [
  {
   "cell_type": "markdown",
   "metadata": {},
   "source": [
    "# SQL Part 3 Studio\n",
    "\n",
    "Let's practice your SQL querying skills! For each question, work along in the notebook, adding your query and answering the questions.\n",
    "\n",
    "## The Dataset\n",
    "\n",
    "We will be using the Goodbooks-10k dataset from the exercises in the prep work. Feel free reference your previous notebooks.\n",
    "\n",
    "1. The dataset can be found here: [goodbooks-10k](https://www.kaggle.com/zygmunt/goodbooks-10k)\n",
    "1. You can access `BooksDB` in the LaunchCode server.\n",
    "\n",
    "## Business Issue\n",
    "\n",
    "You are an employee at a small independent bookstore and you have been tasked with increasing sales.  You decide to use `BooksDB` to find books and themes to highlight in fun promotions throughout each month and/or season.  We will be starting with March and then you will have a chance to explore another month of your choosing.  We want to come up with a list of promotions to run each month.  If you are looking for ideas, here are some resources on different holidays:\n",
    "\n",
    "- [https://www.calendarr.com/united-states/calendar-2022/](https://www.calendarr.com/united-states/calendar-2022/)\n",
    "- [https://www.holidayinsights.com/moreholidays/](https://www.holidayinsights.com/moreholidays/)\n",
    "    - Click on a month and it will take you to a more detailed page"
   ]
  },
  {
   "cell_type": "markdown",
   "metadata": {},
   "source": [
    "## Part 1:  March - Women's History Month, National Pie Day (3/14), St. Patrick's Day (3/17), Season - Spring"
   ]
  },
  {
   "cell_type": "markdown",
   "metadata": {},
   "source": [
    "### Event 1: Women's History Month\n",
    "\n",
    "Highlight popular women writers based on ratings from `BooksDB` by writing a query that returns `tag_id`, the number of times each `tag_id` is used and the `tag_name`. Use the `GROUP BY` and `HAVING` clause to narrow your focus and try multiple keywords, such as \"woman\" and \"female\"."
   ]
  },
  {
   "cell_type": "code",
   "execution_count": null,
   "metadata": {
    "vscode": {
     "languageId": "sql"
    }
   },
   "outputs": [],
   "source": [
    "SELECT count(t.tag_id) AS tags_quantity, tag_name\n",
    "FROM BooksDB.dbo.tags AS t\n",
    "JOIN BooksDB.dbo.book_tags AS bt\n",
    "ON t.tag_id = bt.tag_id\n",
    "GROUP BY tag_name\n",
    "HAVING tag_name LIKE '%woman%'\n",
    "OR tag_name LIKE '%female%'\n",
    "ORDER BY tags_quantity DESC;"
   ]
  },
  {
   "cell_type": "markdown",
   "metadata": {},
   "source": [
    "### Event 2: Choose another event from March/Spring\n",
    "\n",
    "Write a query to return authors, titles, ratings, and `tag_id` that you would want to promote during your chosen event."
   ]
  },
  {
   "cell_type": "code",
   "execution_count": null,
   "metadata": {
    "vscode": {
     "languageId": "sql"
    }
   },
   "outputs": [],
   "source": [
    "SELECT b.authors, b.title, b.average_rating, t.tag_id, t.tag_name\n",
    "FROM dbo.books AS b\n",
    "JOIN dbo.book_tags AS bt ON b.best_book_id = bt.goodreads_book_id\n",
    "JOIN dbo.tags AS t ON bt.tag_id = t.tag_id\n",
    "WHERE t.tag_name LIKE '%mathematics%'\n",
    "    OR t.tag_name LIKE '%math'\n",
    "    OR t.tag_name LIKE '%math-'\n",
    "    OR t.tag_name LIKE '%pi ';"
   ]
  },
  {
   "cell_type": "markdown",
   "metadata": {},
   "source": [
    "Record your thoughts about why you wrote the query the way you did."
   ]
  },
  {
   "cell_type": "markdown",
   "metadata": {},
   "source": [
    "# Part 2: Choose Another Month\n",
    "\n",
    "Choose another month and plan at least 2 events / promotions and answer the following questions:\n",
    "1. Which month did you choose? October\n",
    "1. What 2 events / promotions are you highlighting? Diwali & Halloween"
   ]
  },
  {
   "cell_type": "markdown",
   "metadata": {},
   "source": [
    "# Part 3: Summarize your Work\n",
    "\n",
    "For each event write at least one query that joins any two tables in `BooksDB` to support your choice and record you thoughts as to why you used the paticlular query. At least one of your queries needs to include a `HAVING` clause."
   ]
  },
  {
   "cell_type": "code",
   "execution_count": null,
   "metadata": {
    "vscode": {
     "languageId": "sql"
    }
   },
   "outputs": [],
   "source": [
    "--For Halloween\n",
    "SELECT authors, b.title, b.average_rating, t.tag_id, t.tag_name\n",
    "FROM dbo.books AS b\n",
    "JOIN dbo.book_tags AS bt ON b.best_book_id = bt.goodreads_book_id\n",
    "JOIN dbo.tags AS t ON t.tag_id = bt.tag_id\n",
    "WHERE t.tag_name LIKE '%Halloween%'\n",
    "OR t.tag_name LIKE '%horror%'\n",
    "OR t.tag_name LIKE '%thriller%'\n",
    "OR t.tag_name LIKE '%mystery%'\n",
    "\n",
    "--For Diwali\n",
    "SELECT b.title, t.tag_name, ROUND(AVG(b.average_rating), 2) AS rating\n",
    "FROM dbo.books AS b\n",
    "JOIN dbo.book_tags AS bt ON b.best_book_id = bt.goodreads_book_id\n",
    "JOIN dbo.tags AS t ON t.tag_id = bt.tag_id\n",
    "WHERE t.tag_name LIKE '%festival%'\n",
    "OR t.tag_name LIKE '%Diwali%'\n",
    "OR t.tag_name LIKE '%indian%'\n",
    "OR t.tag_name LIKE '%hindu%'\n",
    "GROUP BY b.title, t.tag_name\n",
    "HAVING AVG(b.average_rating) > 4.0\n",
    "ORDER BY rating DESC, b.title ASC;"
   ]
  },
  {
   "cell_type": "markdown",
   "metadata": {},
   "source": [
    "### Summarize Event 1\n",
    "\n",
    "Double-click to edit."
   ]
  },
  {
   "cell_type": "code",
   "execution_count": null,
   "metadata": {
    "vscode": {
     "languageId": "sql"
    }
   },
   "outputs": [],
   "source": [
    "--For Halloween I kept all the same columns as the previous query\n",
    "--and added a bunch of relevant tag names such as horror and thriller."
   ]
  },
  {
   "cell_type": "markdown",
   "metadata": {},
   "source": [
    "### Summarize Event 2\n",
    "\n",
    "For the Diwali one I wanted to add the Having clause, so I had to remove some of the columns, then I aggregated the average rating, and listed the results by both title and tag name, limiting results by ratings > 4.0 and sorting by highest rating to lowest."
   ]
  }
 ],
 "metadata": {
  "language_info": {
   "name": "python"
  }
 },
 "nbformat": 4,
 "nbformat_minor": 2
}
